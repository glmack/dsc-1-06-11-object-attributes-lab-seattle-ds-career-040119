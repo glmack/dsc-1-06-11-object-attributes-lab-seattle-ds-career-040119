{
 "cells": [
  {
   "cell_type": "markdown",
   "metadata": {},
   "source": [
    "# Object Attributes - Lab"
   ]
  },
  {
   "cell_type": "markdown",
   "metadata": {},
   "source": [
    "## Introduction\n",
    "In this lab, we will practice defining classes and instance methods. We will also practice working with getter and setter (read and write) methods using properties and decorators to operate on instance variables."
   ]
  },
  {
   "cell_type": "markdown",
   "metadata": {},
   "source": [
    "## Objectives\n",
    "\n",
    "You will be able to:\n",
    "\n",
    "* Practice defining classes and instantiating instances of those classes\n",
    "* Practice defining instance methods"
   ]
  },
  {
   "cell_type": "markdown",
   "metadata": {},
   "source": [
    "## Defining Classes and Instance Methods"
   ]
  },
  {
   "cell_type": "markdown",
   "metadata": {},
   "source": [
    "In the cells below define a `Driver` class and define a `Passenger` class.\n",
    "\n",
    "Our driver instance objects should have instance variables for first name, last name, miles driven, and rating. We can name these instance variables `_first`, `_last` (short for first and last name), `_miles_driven`, and `_rating`. We will want to be able to access, change, and delete these values using the appropriate properties. \n",
    "\n",
    "After defining the above instance methods, define an instance method called `greet_passenger`, which returns the string `Hello! I'll be your driver today. My name is ` followed by that driver's first name and last name (i.e. `Hello! I'll be your driver today. My name is John Doe`)."
   ]
  },
  {
   "cell_type": "code",
   "execution_count": null,
   "metadata": {},
   "outputs": [],
   "source": [
    "class BankAccount:\n",
    "    \"\"\"An account. At a bank. It stores money.\"\"\"\n",
    "    def __init__(self, account_number, starting_balance()\n",
    "                 \"\"\"creates a new bank account.\"\"\"\n",
    "                 self.account_number = account_number\n",
    "                 self.balance = starting_balance\n",
    "                 self.cust_id = cust_id\n",
    "                 \n",
    "                 \n",
    "could:\n",
    "    \n",
    "    def deposit(self, amount):\n",
    "                 \"add money to the account.\"\n",
    "            self._balance += amount\n",
    "                 \n",
    "                 def withdraw(self, amount):\n",
    "                 \"\"\"Remove money from the account.\"\"\"\"\"\n",
    "                 if self._balance >= amount:\n",
    "                 self._balance _= amount\n",
    "                 "
   ]
  },
  {
   "cell_type": "code",
   "execution_count": null,
   "metadata": {},
   "outputs": [],
   "source": [
    "checking = BankAccount()"
   ]
  },
  {
   "cell_type": "code",
   "execution_count": null,
   "metadata": {
    "collapsed": true
   },
   "outputs": [],
   "source": [
    "# Define Driver Class here with properties for each instance variable\n",
    "class Driver:\n",
    "\n",
    "    # four instance variables (variables, properties, attributes ?) \n",
    "\n",
    "    def get_first(self):\n",
    "        return self._first\n",
    "    \n",
    "    def set_first(self)\"\n",
    "        self._first = first # Lee - what is this\n",
    "    \n",
    "    def delete_first():\n",
    "        pass\n",
    "    \n",
    "    \n",
    "    def get_last():\n",
    "        return self._last\n",
    "    \n",
    "    def set_last():\n",
    "        return self._last = last # Lee - what is this?\n",
    "    \n",
    "    def delete_last():\n",
    "        pass\n",
    "    \n",
    "    \n",
    "    def get_miles_driven():\n",
    "        pass\n",
    "    \n",
    "    def set_miles_driven():\n",
    "        pass\n",
    "    \n",
    "    def delete_miles_driven():\n",
    "        pass\n",
    "    \n",
    "    \n",
    "    def get_rating():\n",
    "        pass\n",
    "    \n",
    "    def set_rating():\n",
    "        pass\n",
    "    \n",
    "    def delete_rating():\n",
    "        pass\n",
    "     \n",
    "        \n",
    "    _first = property(get_first, set_first, delete_first)\n",
    "    \n",
    "    _last = property(get_last, set_last, delete_last)\n",
    "    \n",
    "    _miles_driven = property(get_miles_driven, set_miles_driven, delete_miles_driven)\n",
    "    \n",
    "    _rating = property(get_rating, set_rating, delete_rating)\n",
    "    \n",
    "\n",
    "    # instance methods\n",
    "    \n",
    "    def greet_passenger():\n",
    "        return f\"Hello! I'll be your driver today. My name is {_first} {_last} .\"\n",
    "    "
   ]
  },
  {
   "cell_type": "code",
   "execution_count": null,
   "metadata": {
    "collapsed": true
   },
   "outputs": [],
   "source": [
    "driver = Driver()\n",
    "driver.first = \"Rachel\"\n",
    "driver.last = \"Jensen\"\n",
    "driver.miles_driven = 100\n",
    "driver.rating = 4.9\n",
    "\n",
    "print(driver.first) # \"Rachel\"\n",
    "print(driver.last) # \"Jensen\"\n",
    "print(driver.miles_driven) # 100\n",
    "print(driver.rating) # 4.9\n",
    "driver.greet_passenger() # Hello! I'll be your driver today. My name is Rachel Jensen"
   ]
  },
  {
   "cell_type": "markdown",
   "metadata": {},
   "source": [
    "In the `Passenger` class, we will want our passenger instance objects to have the attributes first name, last name, and email. Let's continue using the leading underscore naming convention we employed in our `Driver` class and name these instance variables `_first`, `_last`, and `_email`. Define the appropriate instance methods using property and the appropriate decorators for reading (getting), writing (setting), and deleting instance variables. \n",
    "\n",
    "Next, we want to define an instance method called `yell_name` which returns a string with the passengers name in all caps (i.e. \"RON BURGUNDY\"). "
   ]
  },
  {
   "cell_type": "code",
   "execution_count": null,
   "metadata": {
    "collapsed": true
   },
   "outputs": [],
   "source": [
    "# Define Passenger Class here with properties for each instance variable\n",
    "class Passenger:\n",
    "    pass\n",
    "\n",
    "    def get_first(self):\n",
    "        return self._first\n",
    "    \n",
    "    def set_first(self)\"\n",
    "        self._first = first # Lee - what is this\n",
    "    \n",
    "    def delete_first():\n",
    "        pass\n",
    "    \n",
    "    \n",
    "    def get_last():\n",
    "        return self._last\n",
    "    \n",
    "    def set_last():\n",
    "        return self._last = last # Lee - what is this?\n",
    "    \n",
    "    def delete_last():\n",
    "        pass\n",
    "    \n",
    "    def get_email():\n",
    "    \n",
    "    def set_email():\n",
    "        \n",
    "    def delete_email():\n",
    "        \n",
    "        \n",
    "    # defines instance method that returns a string with the passenger's name in all caps   \n",
    "    def yell_name():\n",
    "        return _first.upper _last.upper"
   ]
  },
  {
   "cell_type": "code",
   "execution_count": null,
   "metadata": {
    "collapsed": true
   },
   "outputs": [],
   "source": [
    "passenger = Passenger()\n",
    "passenger.first = \"Ron\"\n",
    "passenger.last = \"Burgundy\"\n",
    "passenger.email = \"ron.burgundy1984@gmail.com\"\n",
    "print(passenger.first) # \"Ron\"\n",
    "print(passenger.last) # \"Burgundy\"\n",
    "print(passenger.email) # \"ron.burgundy1984@gmail.com\"\n",
    "passenger.yell_name() # \"RON BURGUNDY\""
   ]
  },
  {
   "cell_type": "markdown",
   "metadata": {},
   "source": [
    "Great work!"
   ]
  },
  {
   "cell_type": "markdown",
   "metadata": {},
   "source": [
    "## Summary\n",
    "In this lab, we practiced defining classes, instance methods, and utilizing the property function to create, getter setter, and deleter properties so we could access and operate on our instance variables."
   ]
  }
 ],
 "metadata": {
  "kernelspec": {
   "display_name": "Python 3",
   "language": "python",
   "name": "python3"
  },
  "language_info": {
   "codemirror_mode": {
    "name": "ipython",
    "version": 3
   },
   "file_extension": ".py",
   "mimetype": "text/x-python",
   "name": "python",
   "nbconvert_exporter": "python",
   "pygments_lexer": "ipython3",
   "version": "3.6.6"
  }
 },
 "nbformat": 4,
 "nbformat_minor": 2
}
